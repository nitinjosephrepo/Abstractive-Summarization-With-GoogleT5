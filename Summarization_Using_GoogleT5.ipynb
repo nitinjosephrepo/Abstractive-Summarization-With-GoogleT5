{
  "cells": [
    {
      "cell_type": "markdown",
      "metadata": {
        "id": "sZ7BqAMXM8Wz"
      },
      "source": [
        "### For obvious reasons we will use Google T5 to summarize complaints in a  popular public dataset called Consumer Financial Protection Bureau"
      ]
    },
    {
      "cell_type": "code",
      "execution_count": 1,
      "metadata": {
        "colab": {
          "base_uri": "https://localhost:8080/"
        },
        "id": "UEvyOKG_M8W1",
        "outputId": "442483b8-1d26-4bff-d9f8-c8ae02b9a069"
      },
      "outputs": [
        {
          "output_type": "stream",
          "name": "stdout",
          "text": [
            "Looking in indexes: https://pypi.org/simple, https://us-python.pkg.dev/colab-wheels/public/simple/\n",
            "Requirement already satisfied: transformers==2.8.0 in /usr/local/lib/python3.8/dist-packages (2.8.0)\n",
            "Requirement already satisfied: boto3 in /usr/local/lib/python3.8/dist-packages (from transformers==2.8.0) (1.26.79)\n",
            "Requirement already satisfied: tqdm>=4.27 in /usr/local/lib/python3.8/dist-packages (from transformers==2.8.0) (4.64.1)\n",
            "Requirement already satisfied: regex!=2019.12.17 in /usr/local/lib/python3.8/dist-packages (from transformers==2.8.0) (2022.6.2)\n",
            "Requirement already satisfied: requests in /usr/local/lib/python3.8/dist-packages (from transformers==2.8.0) (2.25.1)\n",
            "Requirement already satisfied: sentencepiece in /usr/local/lib/python3.8/dist-packages (from transformers==2.8.0) (0.1.97)\n",
            "Requirement already satisfied: filelock in /usr/local/lib/python3.8/dist-packages (from transformers==2.8.0) (3.9.0)\n",
            "Requirement already satisfied: tokenizers==0.5.2 in /usr/local/lib/python3.8/dist-packages (from transformers==2.8.0) (0.5.2)\n",
            "Requirement already satisfied: numpy in /usr/local/lib/python3.8/dist-packages (from transformers==2.8.0) (1.22.4)\n",
            "Requirement already satisfied: sacremoses in /usr/local/lib/python3.8/dist-packages (from transformers==2.8.0) (0.0.53)\n",
            "Requirement already satisfied: jmespath<2.0.0,>=0.7.1 in /usr/local/lib/python3.8/dist-packages (from boto3->transformers==2.8.0) (1.0.1)\n",
            "Requirement already satisfied: botocore<1.30.0,>=1.29.79 in /usr/local/lib/python3.8/dist-packages (from boto3->transformers==2.8.0) (1.29.79)\n",
            "Requirement already satisfied: s3transfer<0.7.0,>=0.6.0 in /usr/local/lib/python3.8/dist-packages (from boto3->transformers==2.8.0) (0.6.0)\n",
            "Requirement already satisfied: urllib3<1.27,>=1.21.1 in /usr/local/lib/python3.8/dist-packages (from requests->transformers==2.8.0) (1.26.14)\n",
            "Requirement already satisfied: chardet<5,>=3.0.2 in /usr/local/lib/python3.8/dist-packages (from requests->transformers==2.8.0) (4.0.0)\n",
            "Requirement already satisfied: certifi>=2017.4.17 in /usr/local/lib/python3.8/dist-packages (from requests->transformers==2.8.0) (2022.12.7)\n",
            "Requirement already satisfied: idna<3,>=2.5 in /usr/local/lib/python3.8/dist-packages (from requests->transformers==2.8.0) (2.10)\n",
            "Requirement already satisfied: six in /usr/local/lib/python3.8/dist-packages (from sacremoses->transformers==2.8.0) (1.15.0)\n",
            "Requirement already satisfied: joblib in /usr/local/lib/python3.8/dist-packages (from sacremoses->transformers==2.8.0) (1.2.0)\n",
            "Requirement already satisfied: click in /usr/local/lib/python3.8/dist-packages (from sacremoses->transformers==2.8.0) (7.1.2)\n",
            "Requirement already satisfied: python-dateutil<3.0.0,>=2.1 in /usr/local/lib/python3.8/dist-packages (from botocore<1.30.0,>=1.29.79->boto3->transformers==2.8.0) (2.8.2)\n",
            "\u001b[33mWARNING: Running pip as the 'root' user can result in broken permissions and conflicting behaviour with the system package manager. It is recommended to use a virtual environment instead: https://pip.pypa.io/warnings/venv\u001b[0m\u001b[33m\n",
            "\u001b[0mLooking in indexes: https://pypi.org/simple, https://us-python.pkg.dev/colab-wheels/public/simple/\n",
            "Requirement already satisfied: torch==1.4.0 in /usr/local/lib/python3.8/dist-packages (1.4.0)\n",
            "\u001b[33mWARNING: Running pip as the 'root' user can result in broken permissions and conflicting behaviour with the system package manager. It is recommended to use a virtual environment instead: https://pip.pypa.io/warnings/venv\u001b[0m\u001b[33m\n",
            "\u001b[0mLooking in indexes: https://pypi.org/simple, https://us-python.pkg.dev/colab-wheels/public/simple/\n",
            "Requirement already satisfied: pip in /usr/local/lib/python3.8/dist-packages (23.0.1)\n",
            "\u001b[33mWARNING: Running pip as the 'root' user can result in broken permissions and conflicting behaviour with the system package manager. It is recommended to use a virtual environment instead: https://pip.pypa.io/warnings/venv\u001b[0m\u001b[33m\n",
            "\u001b[0mLooking in indexes: https://pypi.org/simple, https://us-python.pkg.dev/colab-wheels/public/simple/\n",
            "Requirement already satisfied: pyopenssl in /usr/local/lib/python3.8/dist-packages (23.0.0)\n",
            "Requirement already satisfied: cryptography<40,>=38.0.0 in /usr/local/lib/python3.8/dist-packages (from pyopenssl) (39.0.1)\n",
            "Requirement already satisfied: cffi>=1.12 in /usr/local/lib/python3.8/dist-packages (from cryptography<40,>=38.0.0->pyopenssl) (1.15.1)\n",
            "Requirement already satisfied: pycparser in /usr/local/lib/python3.8/dist-packages (from cffi>=1.12->cryptography<40,>=38.0.0->pyopenssl) (2.21)\n",
            "\u001b[33mWARNING: Running pip as the 'root' user can result in broken permissions and conflicting behaviour with the system package manager. It is recommended to use a virtual environment instead: https://pip.pypa.io/warnings/venv\u001b[0m\u001b[33m\n",
            "\u001b[0mLooking in indexes: https://pypi.org/simple, https://us-python.pkg.dev/colab-wheels/public/simple/\n",
            "Requirement already satisfied: openai in /usr/local/lib/python3.8/dist-packages (0.26.5)\n",
            "Requirement already satisfied: streamlit in /usr/local/lib/python3.8/dist-packages (1.19.0)\n",
            "Requirement already satisfied: aiohttp in /usr/local/lib/python3.8/dist-packages (from openai) (3.8.4)\n",
            "Requirement already satisfied: tqdm in /usr/local/lib/python3.8/dist-packages (from openai) (4.64.1)\n",
            "Requirement already satisfied: requests>=2.20 in /usr/local/lib/python3.8/dist-packages (from openai) (2.25.1)\n",
            "Requirement already satisfied: pandas>=0.25 in /usr/local/lib/python3.8/dist-packages (from streamlit) (1.3.5)\n",
            "Requirement already satisfied: altair>=3.2.0 in /usr/local/lib/python3.8/dist-packages (from streamlit) (4.2.2)\n",
            "Requirement already satisfied: packaging>=14.1 in /usr/local/lib/python3.8/dist-packages (from streamlit) (23.0)\n",
            "Requirement already satisfied: typing-extensions>=3.10.0.0 in /usr/local/lib/python3.8/dist-packages (from streamlit) (4.5.0)\n",
            "Requirement already satisfied: pympler>=0.9 in /usr/local/lib/python3.8/dist-packages (from streamlit) (1.0.1)\n",
            "Requirement already satisfied: semver in /usr/local/lib/python3.8/dist-packages (from streamlit) (2.13.0)\n",
            "Requirement already satisfied: toml in /usr/local/lib/python3.8/dist-packages (from streamlit) (0.10.2)\n",
            "Requirement already satisfied: importlib-metadata>=1.4 in /usr/local/lib/python3.8/dist-packages (from streamlit) (6.0.0)\n",
            "Requirement already satisfied: blinker>=1.0.0 in /usr/local/lib/python3.8/dist-packages (from streamlit) (1.5)\n",
            "Requirement already satisfied: pyarrow>=4.0 in /usr/local/lib/python3.8/dist-packages (from streamlit) (9.0.0)\n",
            "Requirement already satisfied: validators>=0.2 in /usr/local/lib/python3.8/dist-packages (from streamlit) (0.20.0)\n",
            "Requirement already satisfied: pydeck>=0.1.dev5 in /usr/local/lib/python3.8/dist-packages (from streamlit) (0.8.0)\n",
            "Requirement already satisfied: tzlocal>=1.1 in /usr/local/lib/python3.8/dist-packages (from streamlit) (1.5.1)\n",
            "Requirement already satisfied: click>=7.0 in /usr/local/lib/python3.8/dist-packages (from streamlit) (7.1.2)\n",
            "Requirement already satisfied: protobuf<4,>=3.12 in /usr/local/lib/python3.8/dist-packages (from streamlit) (3.19.6)\n",
            "Requirement already satisfied: rich>=10.11.0 in /usr/local/lib/python3.8/dist-packages (from streamlit) (13.3.1)\n",
            "Requirement already satisfied: numpy in /usr/local/lib/python3.8/dist-packages (from streamlit) (1.22.4)\n",
            "Requirement already satisfied: python-dateutil in /usr/local/lib/python3.8/dist-packages (from streamlit) (2.8.2)\n",
            "Requirement already satisfied: gitpython!=3.1.19 in /usr/local/lib/python3.8/dist-packages (from streamlit) (3.1.31)\n",
            "Requirement already satisfied: tornado>=6.0.3 in /usr/local/lib/python3.8/dist-packages (from streamlit) (6.2)\n",
            "Requirement already satisfied: cachetools>=4.0 in /usr/local/lib/python3.8/dist-packages (from streamlit) (5.3.0)\n",
            "Requirement already satisfied: pillow>=6.2.0 in /usr/local/lib/python3.8/dist-packages (from streamlit) (7.1.2)\n",
            "Requirement already satisfied: watchdog in /usr/local/lib/python3.8/dist-packages (from streamlit) (2.3.0)\n",
            "Requirement already satisfied: jsonschema>=3.0 in /usr/local/lib/python3.8/dist-packages (from altair>=3.2.0->streamlit) (4.3.3)\n",
            "Requirement already satisfied: entrypoints in /usr/local/lib/python3.8/dist-packages (from altair>=3.2.0->streamlit) (0.4)\n",
            "Requirement already satisfied: toolz in /usr/local/lib/python3.8/dist-packages (from altair>=3.2.0->streamlit) (0.12.0)\n",
            "Requirement already satisfied: jinja2 in /usr/local/lib/python3.8/dist-packages (from altair>=3.2.0->streamlit) (2.11.3)\n",
            "Requirement already satisfied: gitdb<5,>=4.0.1 in /usr/local/lib/python3.8/dist-packages (from gitpython!=3.1.19->streamlit) (4.0.10)\n",
            "Requirement already satisfied: zipp>=0.5 in /usr/local/lib/python3.8/dist-packages (from importlib-metadata>=1.4->streamlit) (3.14.0)\n",
            "Requirement already satisfied: pytz>=2017.3 in /usr/local/lib/python3.8/dist-packages (from pandas>=0.25->streamlit) (2022.7.1)\n",
            "Requirement already satisfied: six>=1.5 in /usr/local/lib/python3.8/dist-packages (from python-dateutil->streamlit) (1.15.0)\n",
            "Requirement already satisfied: chardet<5,>=3.0.2 in /usr/local/lib/python3.8/dist-packages (from requests>=2.20->openai) (4.0.0)\n",
            "Requirement already satisfied: certifi>=2017.4.17 in /usr/local/lib/python3.8/dist-packages (from requests>=2.20->openai) (2022.12.7)\n",
            "Requirement already satisfied: idna<3,>=2.5 in /usr/local/lib/python3.8/dist-packages (from requests>=2.20->openai) (2.10)\n",
            "Requirement already satisfied: urllib3<1.27,>=1.21.1 in /usr/local/lib/python3.8/dist-packages (from requests>=2.20->openai) (1.26.14)\n",
            "Requirement already satisfied: markdown-it-py<3.0.0,>=2.1.0 in /usr/local/lib/python3.8/dist-packages (from rich>=10.11.0->streamlit) (2.2.0)\n",
            "Requirement already satisfied: pygments<3.0.0,>=2.14.0 in /usr/local/lib/python3.8/dist-packages (from rich>=10.11.0->streamlit) (2.14.0)\n",
            "Requirement already satisfied: decorator>=3.4.0 in /usr/local/lib/python3.8/dist-packages (from validators>=0.2->streamlit) (4.4.2)\n",
            "Requirement already satisfied: attrs>=17.3.0 in /usr/local/lib/python3.8/dist-packages (from aiohttp->openai) (22.2.0)\n",
            "Requirement already satisfied: yarl<2.0,>=1.0 in /usr/local/lib/python3.8/dist-packages (from aiohttp->openai) (1.8.2)\n",
            "Requirement already satisfied: frozenlist>=1.1.1 in /usr/local/lib/python3.8/dist-packages (from aiohttp->openai) (1.3.3)\n",
            "Requirement already satisfied: async-timeout<5.0,>=4.0.0a3 in /usr/local/lib/python3.8/dist-packages (from aiohttp->openai) (4.0.2)\n",
            "Requirement already satisfied: multidict<7.0,>=4.5 in /usr/local/lib/python3.8/dist-packages (from aiohttp->openai) (6.0.4)\n",
            "Requirement already satisfied: aiosignal>=1.1.2 in /usr/local/lib/python3.8/dist-packages (from aiohttp->openai) (1.3.1)\n",
            "Requirement already satisfied: charset-normalizer<4.0,>=2.0 in /usr/local/lib/python3.8/dist-packages (from aiohttp->openai) (3.0.1)\n",
            "Requirement already satisfied: smmap<6,>=3.0.1 in /usr/local/lib/python3.8/dist-packages (from gitdb<5,>=4.0.1->gitpython!=3.1.19->streamlit) (5.0.0)\n",
            "Requirement already satisfied: MarkupSafe>=0.23 in /usr/local/lib/python3.8/dist-packages (from jinja2->altair>=3.2.0->streamlit) (2.0.1)\n",
            "Requirement already satisfied: pyrsistent!=0.17.0,!=0.17.1,!=0.17.2,>=0.14.0 in /usr/local/lib/python3.8/dist-packages (from jsonschema>=3.0->altair>=3.2.0->streamlit) (0.19.3)\n",
            "Requirement already satisfied: importlib-resources>=1.4.0 in /usr/local/lib/python3.8/dist-packages (from jsonschema>=3.0->altair>=3.2.0->streamlit) (5.12.0)\n",
            "Requirement already satisfied: mdurl~=0.1 in /usr/local/lib/python3.8/dist-packages (from markdown-it-py<3.0.0,>=2.1.0->rich>=10.11.0->streamlit) (0.1.2)\n",
            "\u001b[33mWARNING: Running pip as the 'root' user can result in broken permissions and conflicting behaviour with the system package manager. It is recommended to use a virtual environment instead: https://pip.pypa.io/warnings/venv\u001b[0m\u001b[33m\n",
            "\u001b[0m"
          ]
        }
      ],
      "source": [
        "#Install the following packages, I used Google Colab as installing some of these on Mac m1 machines can be frustrating. \n",
        "!pip install transformers==2.8.0\n",
        "!pip install torch==1.4.0\n",
        "!pip install pip --upgrade\n",
        "!pip install pyopenssl --upgrade\n",
        "!pip install openai streamlit"
      ]
    },
    {
      "cell_type": "code",
      "execution_count": 2,
      "metadata": {
        "id": "6lGBRCuvM8W3"
      },
      "outputs": [],
      "source": [
        "#Import Torch and transformers\n",
        "import warnings\n",
        "warnings.filterwarnings('ignore')\n",
        "import os\n",
        "import csv\n",
        "import pandas as pd\n",
        "import torch\n",
        "import json \n",
        "from transformers import T5Tokenizer, T5ForConditionalGeneration, T5Config\n"
      ]
    },
    {
      "cell_type": "code",
      "source": [
        "#Mount Google Drive to Import Cleaned Dataset\n",
        "from google.colab import drive\n",
        "drive.mount('/content/drive')"
      ],
      "metadata": {
        "colab": {
          "base_uri": "https://localhost:8080/"
        },
        "id": "1imLkQT2PUYY",
        "outputId": "b01bb900-f570-4944-ee28-df35e472dd8a"
      },
      "execution_count": 3,
      "outputs": [
        {
          "output_type": "stream",
          "name": "stdout",
          "text": [
            "Drive already mounted at /content/drive; to attempt to forcibly remount, call drive.mount(\"/content/drive\", force_remount=True).\n"
          ]
        }
      ]
    },
    {
      "cell_type": "code",
      "execution_count": 4,
      "metadata": {
        "id": "C0WTtHQ2M8W3"
      },
      "outputs": [],
      "source": [
        "complaints_pathname='/content/drive/MyDrive/cleaned_complained.csv'\n",
        "df_all_complaints=pd.read_csv(complaints_pathname)\n",
        "df_all_narr=df_all_complaints.dropna(subset=['Consumer complaint narrative'])\n",
        "df_all_narr=df_all_narr[['Product','Sub-product','Issue','Sub-issue','Consumer complaint narrative']]"
      ]
    },
    {
      "cell_type": "code",
      "source": [
        "#Set Pandas Display Option to see the entirity of complaint\n",
        "pd.set_option('display.max_colwidth',240)\n",
        "pd.set_option('max_rows', 99999)"
      ],
      "metadata": {
        "id": "paDPQ6oQep87"
      },
      "execution_count": 5,
      "outputs": []
    },
    {
      "cell_type": "code",
      "execution_count": 6,
      "metadata": {
        "scrolled": false,
        "colab": {
          "base_uri": "https://localhost:8080/",
          "height": 358
        },
        "id": "_f1hrS7YM8W3",
        "outputId": "e84d1d62-8429-4694-bcf5-ee3f22415522"
      },
      "outputs": [
        {
          "output_type": "execute_result",
          "data": {
            "text/plain": [
              "                                                                             Product  \\\n",
              "408                                                                         Mortgage   \n",
              "659                                                                  Debt collection   \n",
              "789                                                          Bank account or service   \n",
              "285894  Credit reporting, credit repair services, or other personal consumer reports   \n",
              "\n",
              "                                  Sub-product  \\\n",
              "408                               VA mortgage   \n",
              "659     Other (i.e. phone, health club, etc.)   \n",
              "789                          Checking account   \n",
              "285894                       Credit reporting   \n",
              "\n",
              "                                           Issue  \\\n",
              "408     Loan modification,collection,foreclosure   \n",
              "659        Cont'd attempts collect debt not owed   \n",
              "789      Account opening, closing, or management   \n",
              "285894      Incorrect information on your report   \n",
              "\n",
              "                                Sub-issue  \\\n",
              "408                                   NaN   \n",
              "659     Debt resulted from identity theft   \n",
              "789                                   NaN   \n",
              "285894           Account status incorrect   \n",
              "\n",
              "                                                                                                                                                                                                                           Consumer complaint narrative  \n",
              "408     Quicken loans contacted my father while he was XXXX and was not legally supposed to sign any documents. The documents were hidden from me and I found them when my father passed away. I advised quicken loans that he passed away and they ...  \n",
              "659     I received an alert from a company called Credence who has placed for collection an account on my credit report on behalf of a company called XXXX in the amount of {$150.00}. I received this alert on both my XXXX and XXXX reports. \\n\\nX...  \n",
              "789     Bank of America fails to show a valid current contract, Bank of America 's response shows no tangible evidence of applicable facts requiring my obligation or performance, I never agreed to a lifetime of obligation to these CRIMINALS, PA...  \n",
              "285894  XXXX XXXX is reporting incorrect information and will not : 1 ) contact me ( they are trying to contact my WIFE! ) 2 ) remove the erroneous marks 3 ) fix the reporting 4 ) delete the negative reporting 5 ) DO anything!\\n\\nThis very frus...  "
            ],
            "text/html": [
              "\n",
              "  <div id=\"df-73384015-6908-4514-922f-b3551ff27838\">\n",
              "    <div class=\"colab-df-container\">\n",
              "      <div>\n",
              "<style scoped>\n",
              "    .dataframe tbody tr th:only-of-type {\n",
              "        vertical-align: middle;\n",
              "    }\n",
              "\n",
              "    .dataframe tbody tr th {\n",
              "        vertical-align: top;\n",
              "    }\n",
              "\n",
              "    .dataframe thead th {\n",
              "        text-align: right;\n",
              "    }\n",
              "</style>\n",
              "<table border=\"1\" class=\"dataframe\">\n",
              "  <thead>\n",
              "    <tr style=\"text-align: right;\">\n",
              "      <th></th>\n",
              "      <th>Product</th>\n",
              "      <th>Sub-product</th>\n",
              "      <th>Issue</th>\n",
              "      <th>Sub-issue</th>\n",
              "      <th>Consumer complaint narrative</th>\n",
              "    </tr>\n",
              "  </thead>\n",
              "  <tbody>\n",
              "    <tr>\n",
              "      <th>408</th>\n",
              "      <td>Mortgage</td>\n",
              "      <td>VA mortgage</td>\n",
              "      <td>Loan modification,collection,foreclosure</td>\n",
              "      <td>NaN</td>\n",
              "      <td>Quicken loans contacted my father while he was XXXX and was not legally supposed to sign any documents. The documents were hidden from me and I found them when my father passed away. I advised quicken loans that he passed away and they ...</td>\n",
              "    </tr>\n",
              "    <tr>\n",
              "      <th>659</th>\n",
              "      <td>Debt collection</td>\n",
              "      <td>Other (i.e. phone, health club, etc.)</td>\n",
              "      <td>Cont'd attempts collect debt not owed</td>\n",
              "      <td>Debt resulted from identity theft</td>\n",
              "      <td>I received an alert from a company called Credence who has placed for collection an account on my credit report on behalf of a company called XXXX in the amount of {$150.00}. I received this alert on both my XXXX and XXXX reports. \\n\\nX...</td>\n",
              "    </tr>\n",
              "    <tr>\n",
              "      <th>789</th>\n",
              "      <td>Bank account or service</td>\n",
              "      <td>Checking account</td>\n",
              "      <td>Account opening, closing, or management</td>\n",
              "      <td>NaN</td>\n",
              "      <td>Bank of America fails to show a valid current contract, Bank of America 's response shows no tangible evidence of applicable facts requiring my obligation or performance, I never agreed to a lifetime of obligation to these CRIMINALS, PA...</td>\n",
              "    </tr>\n",
              "    <tr>\n",
              "      <th>285894</th>\n",
              "      <td>Credit reporting, credit repair services, or other personal consumer reports</td>\n",
              "      <td>Credit reporting</td>\n",
              "      <td>Incorrect information on your report</td>\n",
              "      <td>Account status incorrect</td>\n",
              "      <td>XXXX XXXX is reporting incorrect information and will not : 1 ) contact me ( they are trying to contact my WIFE! ) 2 ) remove the erroneous marks 3 ) fix the reporting 4 ) delete the negative reporting 5 ) DO anything!\\n\\nThis very frus...</td>\n",
              "    </tr>\n",
              "  </tbody>\n",
              "</table>\n",
              "</div>\n",
              "      <button class=\"colab-df-convert\" onclick=\"convertToInteractive('df-73384015-6908-4514-922f-b3551ff27838')\"\n",
              "              title=\"Convert this dataframe to an interactive table.\"\n",
              "              style=\"display:none;\">\n",
              "        \n",
              "  <svg xmlns=\"http://www.w3.org/2000/svg\" height=\"24px\"viewBox=\"0 0 24 24\"\n",
              "       width=\"24px\">\n",
              "    <path d=\"M0 0h24v24H0V0z\" fill=\"none\"/>\n",
              "    <path d=\"M18.56 5.44l.94 2.06.94-2.06 2.06-.94-2.06-.94-.94-2.06-.94 2.06-2.06.94zm-11 1L8.5 8.5l.94-2.06 2.06-.94-2.06-.94L8.5 2.5l-.94 2.06-2.06.94zm10 10l.94 2.06.94-2.06 2.06-.94-2.06-.94-.94-2.06-.94 2.06-2.06.94z\"/><path d=\"M17.41 7.96l-1.37-1.37c-.4-.4-.92-.59-1.43-.59-.52 0-1.04.2-1.43.59L10.3 9.45l-7.72 7.72c-.78.78-.78 2.05 0 2.83L4 21.41c.39.39.9.59 1.41.59.51 0 1.02-.2 1.41-.59l7.78-7.78 2.81-2.81c.8-.78.8-2.07 0-2.86zM5.41 20L4 18.59l7.72-7.72 1.47 1.35L5.41 20z\"/>\n",
              "  </svg>\n",
              "      </button>\n",
              "      \n",
              "  <style>\n",
              "    .colab-df-container {\n",
              "      display:flex;\n",
              "      flex-wrap:wrap;\n",
              "      gap: 12px;\n",
              "    }\n",
              "\n",
              "    .colab-df-convert {\n",
              "      background-color: #E8F0FE;\n",
              "      border: none;\n",
              "      border-radius: 50%;\n",
              "      cursor: pointer;\n",
              "      display: none;\n",
              "      fill: #1967D2;\n",
              "      height: 32px;\n",
              "      padding: 0 0 0 0;\n",
              "      width: 32px;\n",
              "    }\n",
              "\n",
              "    .colab-df-convert:hover {\n",
              "      background-color: #E2EBFA;\n",
              "      box-shadow: 0px 1px 2px rgba(60, 64, 67, 0.3), 0px 1px 3px 1px rgba(60, 64, 67, 0.15);\n",
              "      fill: #174EA6;\n",
              "    }\n",
              "\n",
              "    [theme=dark] .colab-df-convert {\n",
              "      background-color: #3B4455;\n",
              "      fill: #D2E3FC;\n",
              "    }\n",
              "\n",
              "    [theme=dark] .colab-df-convert:hover {\n",
              "      background-color: #434B5C;\n",
              "      box-shadow: 0px 1px 3px 1px rgba(0, 0, 0, 0.15);\n",
              "      filter: drop-shadow(0px 1px 2px rgba(0, 0, 0, 0.3));\n",
              "      fill: #FFFFFF;\n",
              "    }\n",
              "  </style>\n",
              "\n",
              "      <script>\n",
              "        const buttonEl =\n",
              "          document.querySelector('#df-73384015-6908-4514-922f-b3551ff27838 button.colab-df-convert');\n",
              "        buttonEl.style.display =\n",
              "          google.colab.kernel.accessAllowed ? 'block' : 'none';\n",
              "\n",
              "        async function convertToInteractive(key) {\n",
              "          const element = document.querySelector('#df-73384015-6908-4514-922f-b3551ff27838');\n",
              "          const dataTable =\n",
              "            await google.colab.kernel.invokeFunction('convertToInteractive',\n",
              "                                                     [key], {});\n",
              "          if (!dataTable) return;\n",
              "\n",
              "          const docLinkHtml = 'Like what you see? Visit the ' +\n",
              "            '<a target=\"_blank\" href=https://colab.research.google.com/notebooks/data_table.ipynb>data table notebook</a>'\n",
              "            + ' to learn more about interactive tables.';\n",
              "          element.innerHTML = '';\n",
              "          dataTable['output_type'] = 'display_data';\n",
              "          await google.colab.output.renderOutput(dataTable, element);\n",
              "          const docLink = document.createElement('div');\n",
              "          docLink.innerHTML = docLinkHtml;\n",
              "          element.appendChild(docLink);\n",
              "        }\n",
              "      </script>\n",
              "    </div>\n",
              "  </div>\n",
              "  "
            ]
          },
          "metadata": {},
          "execution_count": 6
        }
      ],
      "source": [
        "df_part_narr=df_all_narr[df_all_narr.index.isin([408,659,789,856858,856702,950006,865088,681842,536367,285894])]\n",
        "df_part_narr"
      ]
    },
    {
      "cell_type": "markdown",
      "metadata": {
        "id": "wMJ8YdvdM8W4"
      },
      "source": [
        "### T5 Model"
      ]
    },
    {
      "cell_type": "code",
      "execution_count": 7,
      "metadata": {
        "id": "TCrOwgPhM8W6"
      },
      "outputs": [],
      "source": [
        "#Function takes in three parameters, text, min length and max length of the summary output\n",
        "def T5_summarize(text_ps,required_max_len,required_min_len):\n",
        "    model = T5ForConditionalGeneration.from_pretrained('t5-small')\n",
        "    tokenizer = T5Tokenizer.from_pretrained('t5-small')\n",
        "    device = torch.device('cpu')\n",
        "    summarized_text = list()\n",
        "    text_ps_list = list()\n",
        "    if type(text_ps) ==  str:\n",
        "        text_ps_list.append (text_ps)\n",
        "    elif type(text_ps) == list:\n",
        "        text_ps_list = text_ps\n",
        "    else:\n",
        "        text_ps_list=[]\n",
        "    for p in text_ps_list:\n",
        "        text = p\n",
        "        preprocess_text = text.strip().replace(\"\\n\",\"\")\n",
        "        t5_prepared_Text = \"summarize: \"+preprocess_text\n",
        "        tokenized_text = tokenizer.encode(t5_prepared_Text, return_tensors=\"pt\").to(device)\n",
        "        # summmarize \n",
        "        summary_ids = model.generate(tokenized_text,\n",
        "                                        num_beams=8,\n",
        "                                        no_repeat_ngram_size=4,\n",
        "                                        min_length=required_min_len,\n",
        "                                        max_length=required_max_len,\n",
        "                                        early_stopping=True)\n",
        "\n",
        "        output = tokenizer.decode(summary_ids[0], skip_special_tokens=True)\n",
        "        summarized_text.append(output)\n",
        "    return summarized_text"
      ]
    },
    {
      "cell_type": "code",
      "execution_count": 8,
      "metadata": {
        "colab": {
          "base_uri": "https://localhost:8080/"
        },
        "id": "n5AlbtmmM8W7",
        "outputId": "50dc028f-3b5e-4932-eac6-5548f5a79bcd"
      },
      "outputs": [
        {
          "output_type": "stream",
          "name": "stderr",
          "text": [
            "WARNING:transformers.tokenization_utils:Token indices sequence length is longer than the specified maximum sequence length for this model (703 > 512). Running this sequence through the model will result in indexing errors\n",
            "WARNING:transformers.tokenization_utils:Token indices sequence length is longer than the specified maximum sequence length for this model (889 > 512). Running this sequence through the model will result in indexing errors\n"
          ]
        }
      ],
      "source": [
        "#Run the T5_summarize function fitted with parameters, the function reads 'Consumer complaint narrative' column and outputs summary as a list\n",
        "#As this can be resource intensive we summarize only the first 4 complaints keep the output to max length of 100 words and min of 30 words\n",
        "sum_list = T5_summarize (df_part_narr.iloc[:,4].tolist(),100,30)"
      ]
    },
    {
      "cell_type": "markdown",
      "source": [
        "## Output of Summarized Text"
      ],
      "metadata": {
        "id": "9oxQ9Y6BdPya"
      }
    },
    {
      "cell_type": "code",
      "execution_count": 9,
      "metadata": {
        "colab": {
          "base_uri": "https://localhost:8080/"
        },
        "id": "UhwpG2VAM8W7",
        "outputId": "326f9541-52ba-4d40-81a3-4de18ff75518"
      },
      "outputs": [
        {
          "output_type": "execute_result",
          "data": {
            "text/plain": [
              "['quicken loans contacted my father while he was XXXX and was not legally supposed to sign any documents. the documents were hidden from me and I found them when my father passed away. I advised quicken loans that he passed away and they told me I could modify or refinance my fathers house. they used comps that were not comperable to my fathers home.',\n",
              " 'a company has placed for collection an account on my credit report on behalf of a company called XXXX in the amount of $150.00. I received a collection letter from the same company for this very same account. they failed to find any information on this account pertaining to my social security number or any other personal identifying information.',\n",
              " 'parties to a contract should be competent, being of the age of consent, of sound mind, not disqualified from contracting by any law to which s/he is subject. a flaw in capacity may be due to minority, lunacy, idiocy, drunkenness or kind.',\n",
              " 'XXXX is reporting incorrect information and will not contact me. 2. remove the erroneous marks 3. fix the reporting 4. delete the negative reporting 5. DO anything!This very frustrating as this is my SECOND complaint now!']"
            ]
          },
          "metadata": {},
          "execution_count": 9
        }
      ],
      "source": [
        "#First 4 complaints summarized\n",
        "sum_list"
      ]
    },
    {
      "cell_type": "code",
      "source": [
        "pd.set_option('display.max_colwidth',1500)\n",
        "pd.set_option('max_rows', 99999)"
      ],
      "metadata": {
        "id": "vjFv7O_Dpayq"
      },
      "execution_count": 10,
      "outputs": []
    },
    {
      "cell_type": "markdown",
      "source": [
        "## First complaint prior to summarization"
      ],
      "metadata": {
        "id": "IhSYNLy5xjkb"
      }
    },
    {
      "cell_type": "code",
      "source": [
        "# Original Complaint before Summarized\n",
        "text = df_part_narr['Consumer complaint narrative'][0:1]"
      ],
      "metadata": {
        "id": "QoTzl_LNYaxv"
      },
      "execution_count": 11,
      "outputs": []
    },
    {
      "cell_type": "code",
      "source": [
        "text"
      ],
      "metadata": {
        "colab": {
          "base_uri": "https://localhost:8080/"
        },
        "id": "-WKs-40RpRKu",
        "outputId": "2b43394e-d4e5-44c9-cf91-2c8821a37f28"
      },
      "execution_count": 12,
      "outputs": [
        {
          "output_type": "execute_result",
          "data": {
            "text/plain": [
              "408    Quicken loans contacted my father while he was XXXX and was not legally supposed to sign any documents. The documents were hidden from me and I found them when my father passed away. I advised quicken loans that he passed away and they told me I could modify or refinance my fathers house. I told them the house was not worth what the amount of the loan was. I had the house appraised in XX/XX/2016 and the house appraised for {$230000.00}. When quicken loans sent someone to appraise my fathers house, they used comps that were not comperable to my fathers home. They used comps not near my dads home and homes that were for sale and did n't sell yet. I opted to do a short sale on the house, quicken loans approved the short sale as well as the va. I have had nothing but headaches since my father passed with quicken loans. They did. A loan with a man that was XXXX, XXXX, XXXX and when I asked them how they could do that, their answer was if he can sign his name he can have a mortgage. Quicken loans is the worst place and I would never recommend them to anyone. What they did to my father was a predatory loan and is illegal. I will let everyone know what they did to my father and the home that was in our family for 48 years. They would rather sell the house to a complete stranger then to his daughter. They will receive less then the $ XXXX I offered.\n",
              "Name: Consumer complaint narrative, dtype: object"
            ]
          },
          "metadata": {},
          "execution_count": 12
        }
      ]
    }
  ],
  "metadata": {
    "kernelspec": {
      "display_name": "Python 3",
      "language": "python",
      "name": "python3"
    },
    "language_info": {
      "codemirror_mode": {
        "name": "ipython",
        "version": 3
      },
      "file_extension": ".py",
      "mimetype": "text/x-python",
      "name": "python",
      "nbconvert_exporter": "python",
      "pygments_lexer": "ipython3",
      "version": "3.8.3"
    },
    "colab": {
      "provenance": []
    },
    "accelerator": "GPU",
    "gpuClass": "standard"
  },
  "nbformat": 4,
  "nbformat_minor": 0
}