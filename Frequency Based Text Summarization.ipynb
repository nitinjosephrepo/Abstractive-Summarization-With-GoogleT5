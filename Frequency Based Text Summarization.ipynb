{
 "cells": [
  {
   "cell_type": "code",
   "execution_count": 1,
   "id": "05561f33",
   "metadata": {},
   "outputs": [],
   "source": [
    "import pandas as pd\n",
    "import numpy as np\n",
    "from goose3 import Goose\n",
    "import re # relugar expression\n",
    "import nltk # natural language toolkit\n",
    "import string\n",
    "import heapq"
   ]
  },
  {
   "cell_type": "code",
   "execution_count": 2,
   "id": "a43e4f14",
   "metadata": {},
   "outputs": [],
   "source": [
    "g = Goose()\n",
    "url = 'https://www.mcleanvet.com/5-things-you-can-do-to-improve-your-pets-dental-health-by-dr-eva-chung/'\n",
    "article = g.extract(url)"
   ]
  },
  {
   "cell_type": "code",
   "execution_count": 3,
   "id": "2cebfd7a",
   "metadata": {},
   "outputs": [
    {
     "data": {
      "text/plain": [
       "{'meta': {'description': 'So you’ve noticed an offensive odour from your pet’s mouth recently, maybe even a slight decline in appetite or she prefers soft food versus kibble. Unfortunately, many pet owners are unaware these signs may be indicators of dental disease and their pet is experiencing dental pain. In fact, many pets...',\n",
       "  'lang': 'en',\n",
       "  'keywords': '',\n",
       "  'favicon': 'https://www.mcleanvet.com/wp-content/uploads/sites/227/2022/03/favicon.png',\n",
       "  'canonical': 'https://www.mcleanvet.com/5-things-you-can-do-to-improve-your-pets-dental-health-by-dr-eva-chung/',\n",
       "  'encoding': 'UTF-8'},\n",
       " 'image': None,\n",
       " 'domain': 'www.mcleanvet.com',\n",
       " 'title': '5 Things You Can Do To Improve Your Pet’s Dental Health',\n",
       " 'cleaned_text': 'So you’ve noticed an offensive odour from your pet’s mouth recently, maybe even a slight decline in appetite or she prefers soft food versus kibble. Unfortunately, many pet owners are unaware these signs may be indicators of dental disease and their pet is experiencing dental pain. In fact, many pets have evidence of dental disease long before they are considered “old”, because they have not been given proper dental care. To prevent unnecessary oral pain, improve the quality of life and health of a pet, it is imperative a dental care program is implemented. By following the tips below, you will be a step ahead in fighting dental disease.\\n\\nThe number one way to prevent plaque and calculus/tarter formation is by brushing your pet’s teeth daily. Bacteria from a pet’s mouth results in plaque formation and overtime the minerals in saliva will cause the plaque to harden into calculus. Once calculus is present, it cannot be brushed off. The calculus will lead to gum disease which in turn can lead to dental abscess and loose teeth. We recommend pet owners to speak to their veterinarian about the proper brushing technique as well as use a veterinarian recommended toothpaste.\\n\\nThere are many diets with claims of preventing calculus formation on the market today. I recommend dental diets to pet owners who are unable to brush their pet’s teeth and if their pet does not have a pre-existing condition. I strongly recommend using only diets recommended by your veterinarian since not all dental diets are created equal.\\n\\nIn general, dental diets work in two ways; the mechanical action while a pet chews the kibble and the enzymes present in the food to help reduce bacteria and plaque formation. As you can see, a pet that does not chew his kibble will not get the benefits of a dental diet. As well, these diets work best as a pet’s sole diet and the effectiveness declines if the diet is fed as a treat.\\n\\nAnother alternative to brushing and dental diets is adding a solution to your pet’s drinking water. This alternative is recommended for owners who cannot brush their pet’s teeth and when a dental diet is not appropriate. Water additives contain ingredients to help reduce oral bacteria which in turn reduce plaque formation. With all the options available today, I advise pet owners to speak to their veterinarian regarding the water additive for their pet.\\n\\nMany pets will need a dental in their lifetime. Even if a pet owner is diligent at brushing their pet’s teeth, a cleaning under anesthesia may be necessary to remove tarter from along and beneath the gingiva. Removing tarter will prevent gingivitis (inflammation of the gums) which will in turn prevent gingival recession, tooth loss and dental pain.\\n\\nI recommend regular exams with your veterinarian to assess your pet’s teeth and whether a dental is the right option for your pet. In some situations, we have found severe dental disease below the gingiva that was not evident to the owner or during a routine examination.\\n• Say No to “No-anesthesia Dental “\\n\\nA proper dental requires anesthesia. No-anesthesia dentals are performed by individuals that do not have a medical background and do not have the necessary training to perform a dental cleaning. Ask yourself if you would allow your hair dresser to scale and polish your teeth while you got a haircut. Would they have the expertise to make an assessment and give you recommendations about your oral health? Not to mention the additional risk of chipping a tooth, removing enamel and causing damage to the gingiva when dentals are performed without anesthesia and with an untrained individual. The truth is no-anesthesia dentals improve the esthetics for the owner but can actually do more harm than good for the pet.\\n\\nRemoving calculus without polishing the surface of the tooth afterwards allows bacteria to “stick” to a rough surface. In a short period of time the calculus will return, gingivitis is not resolved and severe dental disease is the result. Only a dental under anesthesia can remove calculus under the gum line and treat gingivitis.\\n\\nIf you have questions concerning your pet’s dental health, we advise you speak to your veterinarian team. February and March are dental months at McLean Animal Hospital. We offer no charge dental assessments and will be available to answer any dental questions you have.\\n\\nPlease call McLean Animal Hospital at 416-752-5114 to book your free dental assessment.',\n",
       " 'opengraph': {'locale': 'en_US',\n",
       "  'type': 'article',\n",
       "  'title': '5 Things You Can Do To Improve Your Pet’s Dental Health - McLean Animal Hospital',\n",
       "  'description': 'So you’ve noticed an offensive odour from your pet’s mouth recently, maybe even a slight decline in appetite or she prefers soft food versus kibble. Unfortunately, many pet owners are unaware these signs may be indicators of dental disease and their pet is experiencing dental pain. In fact, many pets...',\n",
       "  'url': 'https://www.mcleanvet.com/5-things-you-can-do-to-improve-your-pets-dental-health-by-dr-eva-chung/',\n",
       "  'site_name': 'McLean Animal Hospital',\n",
       "  'article:published_time': '2022-03-03T16:22:07+00:00',\n",
       "  'article:modified_time': '2022-03-11T21:02:50+00:00',\n",
       "  'image': 'https://www.mcleanvet.com/wp-content/uploads/sites/227/2022/03/Dollarphotoclub_27841450-scaled.jpg',\n",
       "  'image:width': '2560',\n",
       "  'image:height': '1898',\n",
       "  'image:type': 'image/jpeg'},\n",
       " 'tags': [],\n",
       " 'tweets': [],\n",
       " 'movies': [],\n",
       " 'links': ['https://www.mcleanvet.com/dog/dental-care/'],\n",
       " 'authors': ['vsadmin'],\n",
       " 'publish_date': '2022-03-03T16:22:07+00:00'}"
      ]
     },
     "execution_count": 3,
     "metadata": {},
     "output_type": "execute_result"
    }
   ],
   "source": [
    "article.infos"
   ]
  },
  {
   "cell_type": "code",
   "execution_count": 4,
   "id": "55064b79",
   "metadata": {},
   "outputs": [
    {
     "data": {
      "text/plain": [
       "'5 Things You Can Do To Improve Your Pet’s Dental Health'"
      ]
     },
     "execution_count": 4,
     "metadata": {},
     "output_type": "execute_result"
    }
   ],
   "source": [
    "article.title"
   ]
  },
  {
   "cell_type": "code",
   "execution_count": 5,
   "id": "78bd650b",
   "metadata": {},
   "outputs": [
    {
     "data": {
      "text/plain": [
       "'So you’ve noticed an offensive odour from your pet’s mouth recently, maybe even a slight decline in appetite or she prefers soft food versus kibble. Unfortunately, many pet owners are unaware these signs may be indicators of dental disease and their pet is experiencing dental pain. In fact, many pets have evidence of dental disease long before they are considered “old”, because they have not been given proper dental care. To prevent unnecessary oral pain, improve the quality of life and health of a pet, it is imperative a dental care program is implemented. By following the tips below, you will be a step ahead in fighting dental disease.\\n\\nThe number one way to prevent plaque and calculus/tarter formation is by brushing your pet’s teeth daily. Bacteria from a pet’s mouth results in plaque formation and overtime the minerals in saliva will cause the plaque to harden into calculus. Once calculus is present, it cannot be brushed off. The calculus will lead to gum disease which in turn can lead to dental abscess and loose teeth. We recommend pet owners to speak to their veterinarian about the proper brushing technique as well as use a veterinarian recommended toothpaste.\\n\\nThere are many diets with claims of preventing calculus formation on the market today. I recommend dental diets to pet owners who are unable to brush their pet’s teeth and if their pet does not have a pre-existing condition. I strongly recommend using only diets recommended by your veterinarian since not all dental diets are created equal.\\n\\nIn general, dental diets work in two ways; the mechanical action while a pet chews the kibble and the enzymes present in the food to help reduce bacteria and plaque formation. As you can see, a pet that does not chew his kibble will not get the benefits of a dental diet. As well, these diets work best as a pet’s sole diet and the effectiveness declines if the diet is fed as a treat.\\n\\nAnother alternative to brushing and dental diets is adding a solution to your pet’s drinking water. This alternative is recommended for owners who cannot brush their pet’s teeth and when a dental diet is not appropriate. Water additives contain ingredients to help reduce oral bacteria which in turn reduce plaque formation. With all the options available today, I advise pet owners to speak to their veterinarian regarding the water additive for their pet.\\n\\nMany pets will need a dental in their lifetime. Even if a pet owner is diligent at brushing their pet’s teeth, a cleaning under anesthesia may be necessary to remove tarter from along and beneath the gingiva. Removing tarter will prevent gingivitis (inflammation of the gums) which will in turn prevent gingival recession, tooth loss and dental pain.\\n\\nI recommend regular exams with your veterinarian to assess your pet’s teeth and whether a dental is the right option for your pet. In some situations, we have found severe dental disease below the gingiva that was not evident to the owner or during a routine examination.\\n• Say No to “No-anesthesia Dental “\\n\\nA proper dental requires anesthesia. No-anesthesia dentals are performed by individuals that do not have a medical background and do not have the necessary training to perform a dental cleaning. Ask yourself if you would allow your hair dresser to scale and polish your teeth while you got a haircut. Would they have the expertise to make an assessment and give you recommendations about your oral health? Not to mention the additional risk of chipping a tooth, removing enamel and causing damage to the gingiva when dentals are performed without anesthesia and with an untrained individual. The truth is no-anesthesia dentals improve the esthetics for the owner but can actually do more harm than good for the pet.\\n\\nRemoving calculus without polishing the surface of the tooth afterwards allows bacteria to “stick” to a rough surface. In a short period of time the calculus will return, gingivitis is not resolved and severe dental disease is the result. Only a dental under anesthesia can remove calculus under the gum line and treat gingivitis.\\n\\nIf you have questions concerning your pet’s dental health, we advise you speak to your veterinarian team. February and March are dental months at McLean Animal Hospital. We offer no charge dental assessments and will be available to answer any dental questions you have.\\n\\nPlease call McLean Animal Hospital at 416-752-5114 to book your free dental assessment.'"
      ]
     },
     "execution_count": 5,
     "metadata": {},
     "output_type": "execute_result"
    }
   ],
   "source": [
    "article.cleaned_text"
   ]
  },
  {
   "cell_type": "code",
   "execution_count": 6,
   "id": "3901cdd0",
   "metadata": {},
   "outputs": [
    {
     "data": {
      "text/plain": [
       "4444"
      ]
     },
     "execution_count": 6,
     "metadata": {},
     "output_type": "execute_result"
    }
   ],
   "source": [
    "len(article.cleaned_text)"
   ]
  },
  {
   "cell_type": "code",
   "execution_count": 7,
   "id": "2a603941",
   "metadata": {},
   "outputs": [
    {
     "data": {
      "text/plain": [
       "'!\"#$%&\\'()*+,-./:;<=>?@[\\\\]^_`{|}~'"
      ]
     },
     "execution_count": 7,
     "metadata": {},
     "output_type": "execute_result"
    }
   ],
   "source": [
    "string.punctuation"
   ]
  },
  {
   "cell_type": "code",
   "execution_count": 8,
   "id": "13b1657c",
   "metadata": {},
   "outputs": [],
   "source": [
    "stopwords = nltk.corpus.stopwords.words('english')"
   ]
  },
  {
   "cell_type": "code",
   "execution_count": 9,
   "id": "7250261e",
   "metadata": {},
   "outputs": [],
   "source": [
    "def preprocess(text):\n",
    "  formatted_text = text.lower()\n",
    "  tokens = []\n",
    "  for token in nltk.word_tokenize(formatted_text):\n",
    "    tokens.append(token)\n",
    "  #print(tokens)\n",
    "  tokens = [word for word in tokens if word not in stopwords and word not in string.punctuation]\n",
    "  formatted_text = ' '.join(element for element in tokens)\n",
    "\n",
    "  return formatted_text"
   ]
  },
  {
   "cell_type": "code",
   "execution_count": 10,
   "id": "079cddf0",
   "metadata": {},
   "outputs": [
    {
     "data": {
      "text/plain": [
       "'’ noticed offensive odour pet ’ mouth recently maybe even slight decline appetite prefers soft food versus kibble unfortunately many pet owners unaware signs may indicators dental disease pet experiencing dental pain fact many pets evidence dental disease long considered “ old ” given proper dental care prevent unnecessary oral pain improve quality life health pet imperative dental care program implemented following tips step ahead fighting dental disease number one way prevent plaque calculus/tarter formation brushing pet ’ teeth daily bacteria pet ’ mouth results plaque formation overtime minerals saliva cause plaque harden calculus calculus present brushed calculus lead gum disease turn lead dental abscess loose teeth recommend pet owners speak veterinarian proper brushing technique well use veterinarian recommended toothpaste many diets claims preventing calculus formation market today recommend dental diets pet owners unable brush pet ’ teeth pet pre-existing condition strongly recommend using diets recommended veterinarian since dental diets created equal general dental diets work two ways mechanical action pet chews kibble enzymes present food help reduce bacteria plaque formation see pet chew kibble get benefits dental diet well diets work best pet ’ sole diet effectiveness declines diet fed treat another alternative brushing dental diets adding solution pet ’ drinking water alternative recommended owners brush pet ’ teeth dental diet appropriate water additives contain ingredients help reduce oral bacteria turn reduce plaque formation options available today advise pet owners speak veterinarian regarding water additive pet many pets need dental lifetime even pet owner diligent brushing pet ’ teeth cleaning anesthesia may necessary remove tarter along beneath gingiva removing tarter prevent gingivitis inflammation gums turn prevent gingival recession tooth loss dental pain recommend regular exams veterinarian assess pet ’ teeth whether dental right option pet situations found severe dental disease gingiva evident owner routine examination • say “ no-anesthesia dental “ proper dental requires anesthesia no-anesthesia dentals performed individuals medical background necessary training perform dental cleaning ask would allow hair dresser scale polish teeth got haircut would expertise make assessment give recommendations oral health mention additional risk chipping tooth removing enamel causing damage gingiva dentals performed without anesthesia untrained individual truth no-anesthesia dentals improve esthetics owner actually harm good pet removing calculus without polishing surface tooth afterwards allows bacteria “ stick ” rough surface short period time calculus return gingivitis resolved severe dental disease result dental anesthesia remove calculus gum line treat gingivitis questions concerning pet ’ dental health advise speak veterinarian team february march dental months mclean animal hospital offer charge dental assessments available answer dental questions please call mclean animal hospital 416-752-5114 book free dental assessment'"
      ]
     },
     "execution_count": 10,
     "metadata": {},
     "output_type": "execute_result"
    }
   ],
   "source": [
    "formatted_article = preprocess(article.cleaned_text)\n",
    "formatted_article"
   ]
  },
  {
   "cell_type": "code",
   "execution_count": 11,
   "id": "6e9e5d8a",
   "metadata": {},
   "outputs": [
    {
     "data": {
      "text/plain": [
       "3099"
      ]
     },
     "execution_count": 11,
     "metadata": {},
     "output_type": "execute_result"
    }
   ],
   "source": [
    "len(formatted_article)"
   ]
  },
  {
   "cell_type": "code",
   "execution_count": 12,
   "id": "8901320b",
   "metadata": {},
   "outputs": [],
   "source": [
    "def summarize(text, number_of_sentences, percentage = 0):\n",
    "  original_text = text\n",
    "  formatted_text = preprocess(original_text)\n",
    "\n",
    "  word_frequency = nltk.FreqDist(nltk.word_tokenize(formatted_text))\n",
    "  highest_frequency = max(word_frequency.values())\n",
    "  for word in word_frequency.keys():\n",
    "    word_frequency[word] = (word_frequency[word] / highest_frequency)\n",
    "  sentence_list = nltk.sent_tokenize(original_text)\n",
    "  \n",
    "  score_sentences = {}\n",
    "  for sentence in sentence_list:\n",
    "    for word in nltk.word_tokenize(sentence):\n",
    "      if word in word_frequency.keys():\n",
    "        if sentence not in score_sentences.keys():\n",
    "          score_sentences[sentence] = word_frequency[word]\n",
    "        else:\n",
    "          score_sentences[sentence] += word_frequency[word]\n",
    "\n",
    "  import heapq\n",
    "  if percentage > 0:\n",
    "    best_sentences = heapq.nlargest(int(len(sentence_list) * percentage), score_sentences, key=score_sentences.get)\n",
    "  else:\n",
    "    best_sentences = heapq.nlargest(number_of_sentences, score_sentences, key=score_sentences.get)\n",
    "\n",
    "  return sentence_list, best_sentences, word_frequency, score_sentences"
   ]
  },
  {
   "cell_type": "code",
   "execution_count": 13,
   "id": "61942e6c",
   "metadata": {},
   "outputs": [],
   "source": [
    "sentence_list, best_sentences, word_frequency, score_sentences = summarize(article.cleaned_text, 15)"
   ]
  },
  {
   "cell_type": "code",
   "execution_count": 14,
   "id": "9d9a90c2",
   "metadata": {},
   "outputs": [
    {
     "data": {
      "text/plain": [
       "['So you’ve noticed an offensive odour from your pet’s mouth recently, maybe even a slight decline in appetite or she prefers soft food versus kibble.',\n",
       " 'Unfortunately, many pet owners are unaware these signs may be indicators of dental disease and their pet is experiencing dental pain.',\n",
       " 'In fact, many pets have evidence of dental disease long before they are considered “old”, because they have not been given proper dental care.',\n",
       " 'To prevent unnecessary oral pain, improve the quality of life and health of a pet, it is imperative a dental care program is implemented.',\n",
       " 'By following the tips below, you will be a step ahead in fighting dental disease.',\n",
       " 'The number one way to prevent plaque and calculus/tarter formation is by brushing your pet’s teeth daily.',\n",
       " 'Bacteria from a pet’s mouth results in plaque formation and overtime the minerals in saliva will cause the plaque to harden into calculus.',\n",
       " 'Once calculus is present, it cannot be brushed off.',\n",
       " 'The calculus will lead to gum disease which in turn can lead to dental abscess and loose teeth.',\n",
       " 'We recommend pet owners to speak to their veterinarian about the proper brushing technique as well as use a veterinarian recommended toothpaste.',\n",
       " 'There are many diets with claims of preventing calculus formation on the market today.',\n",
       " 'I recommend dental diets to pet owners who are unable to brush their pet’s teeth and if their pet does not have a pre-existing condition.',\n",
       " 'I strongly recommend using only diets recommended by your veterinarian since not all dental diets are created equal.',\n",
       " 'In general, dental diets work in two ways; the mechanical action while a pet chews the kibble and the enzymes present in the food to help reduce bacteria and plaque formation.',\n",
       " 'As you can see, a pet that does not chew his kibble will not get the benefits of a dental diet.',\n",
       " 'As well, these diets work best as a pet’s sole diet and the effectiveness declines if the diet is fed as a treat.',\n",
       " 'Another alternative to brushing and dental diets is adding a solution to your pet’s drinking water.',\n",
       " 'This alternative is recommended for owners who cannot brush their pet’s teeth and when a dental diet is not appropriate.',\n",
       " 'Water additives contain ingredients to help reduce oral bacteria which in turn reduce plaque formation.',\n",
       " 'With all the options available today, I advise pet owners to speak to their veterinarian regarding the water additive for their pet.',\n",
       " 'Many pets will need a dental in their lifetime.',\n",
       " 'Even if a pet owner is diligent at brushing their pet’s teeth, a cleaning under anesthesia may be necessary to remove tarter from along and beneath the gingiva.',\n",
       " 'Removing tarter will prevent gingivitis (inflammation of the gums) which will in turn prevent gingival recession, tooth loss and dental pain.',\n",
       " 'I recommend regular exams with your veterinarian to assess your pet’s teeth and whether a dental is the right option for your pet.',\n",
       " 'In some situations, we have found severe dental disease below the gingiva that was not evident to the owner or during a routine examination.',\n",
       " '• Say No to “No-anesthesia Dental “\\n\\nA proper dental requires anesthesia.',\n",
       " 'No-anesthesia dentals are performed by individuals that do not have a medical background and do not have the necessary training to perform a dental cleaning.',\n",
       " 'Ask yourself if you would allow your hair dresser to scale and polish your teeth while you got a haircut.',\n",
       " 'Would they have the expertise to make an assessment and give you recommendations about your oral health?',\n",
       " 'Not to mention the additional risk of chipping a tooth, removing enamel and causing damage to the gingiva when dentals are performed without anesthesia and with an untrained individual.',\n",
       " 'The truth is no-anesthesia dentals improve the esthetics for the owner but can actually do more harm than good for the pet.',\n",
       " 'Removing calculus without polishing the surface of the tooth afterwards allows bacteria to “stick” to a rough surface.',\n",
       " 'In a short period of time the calculus will return, gingivitis is not resolved and severe dental disease is the result.',\n",
       " 'Only a dental under anesthesia can remove calculus under the gum line and treat gingivitis.',\n",
       " 'If you have questions concerning your pet’s dental health, we advise you speak to your veterinarian team.',\n",
       " 'February and March are dental months at McLean Animal Hospital.',\n",
       " 'We offer no charge dental assessments and will be available to answer any dental questions you have.',\n",
       " 'Please call McLean Animal Hospital at 416-752-5114 to book your free dental assessment.']"
      ]
     },
     "execution_count": 14,
     "metadata": {},
     "output_type": "execute_result"
    }
   ],
   "source": [
    "sentence_list"
   ]
  },
  {
   "cell_type": "code",
   "execution_count": 15,
   "id": "ea4d2cc4",
   "metadata": {},
   "outputs": [
    {
     "data": {
      "text/plain": [
       "['I recommend dental diets to pet owners who are unable to brush their pet’s teeth and if their pet does not have a pre-existing condition.',\n",
       " 'Unfortunately, many pet owners are unaware these signs may be indicators of dental disease and their pet is experiencing dental pain.',\n",
       " 'I recommend regular exams with your veterinarian to assess your pet’s teeth and whether a dental is the right option for your pet.',\n",
       " 'In general, dental diets work in two ways; the mechanical action while a pet chews the kibble and the enzymes present in the food to help reduce bacteria and plaque formation.',\n",
       " 'Even if a pet owner is diligent at brushing their pet’s teeth, a cleaning under anesthesia may be necessary to remove tarter from along and beneath the gingiva.',\n",
       " 'This alternative is recommended for owners who cannot brush their pet’s teeth and when a dental diet is not appropriate.',\n",
       " 'In fact, many pets have evidence of dental disease long before they are considered “old”, because they have not been given proper dental care.',\n",
       " 'Another alternative to brushing and dental diets is adding a solution to your pet’s drinking water.',\n",
       " 'If you have questions concerning your pet’s dental health, we advise you speak to your veterinarian team.',\n",
       " 'To prevent unnecessary oral pain, improve the quality of life and health of a pet, it is imperative a dental care program is implemented.',\n",
       " 'With all the options available today, I advise pet owners to speak to their veterinarian regarding the water additive for their pet.',\n",
       " 'So you’ve noticed an offensive odour from your pet’s mouth recently, maybe even a slight decline in appetite or she prefers soft food versus kibble.',\n",
       " 'The number one way to prevent plaque and calculus/tarter formation is by brushing your pet’s teeth daily.',\n",
       " 'Bacteria from a pet’s mouth results in plaque formation and overtime the minerals in saliva will cause the plaque to harden into calculus.',\n",
       " 'We recommend pet owners to speak to their veterinarian about the proper brushing technique as well as use a veterinarian recommended toothpaste.']"
      ]
     },
     "execution_count": 15,
     "metadata": {},
     "output_type": "execute_result"
    }
   ],
   "source": [
    "best_sentences"
   ]
  },
  {
   "cell_type": "code",
   "execution_count": 16,
   "id": "51fa176c",
   "metadata": {},
   "outputs": [
    {
     "data": {
      "text/plain": [
       "FreqDist({'dental': 1.0, 'pet': 0.8518518518518519, '’': 0.4074074074074074, 'teeth': 0.25925925925925924, 'calculus': 0.25925925925925924, 'diets': 0.25925925925925924, 'disease': 0.2222222222222222, 'veterinarian': 0.2222222222222222, 'owners': 0.18518518518518517, 'plaque': 0.18518518518518517, ...})"
      ]
     },
     "execution_count": 16,
     "metadata": {},
     "output_type": "execute_result"
    }
   ],
   "source": [
    "word_frequency"
   ]
  },
  {
   "cell_type": "code",
   "execution_count": 17,
   "id": "bc063bd5",
   "metadata": {},
   "outputs": [
    {
     "data": {
      "text/plain": [
       "{'So you’ve noticed an offensive odour from your pet’s mouth recently, maybe even a slight decline in appetite or she prefers soft food versus kibble.': 2.407407407407408,\n",
       " 'Unfortunately, many pet owners are unaware these signs may be indicators of dental disease and their pet is experiencing dental pain.': 4.592592592592593,\n",
       " 'In fact, many pets have evidence of dental disease long before they are considered “old”, because they have not been given proper dental care.': 3.074074074074074,\n",
       " 'To prevent unnecessary oral pain, improve the quality of life and health of a pet, it is imperative a dental care program is implemented.': 2.7037037037037037,\n",
       " 'By following the tips below, you will be a step ahead in fighting dental disease.': 1.4074074074074074,\n",
       " 'The number one way to prevent plaque and calculus/tarter formation is by brushing your pet’s teeth daily.': 2.3703703703703702,\n",
       " 'Bacteria from a pet’s mouth results in plaque formation and overtime the minerals in saliva will cause the plaque to harden into calculus.': 2.3703703703703702,\n",
       " 'Once calculus is present, it cannot be brushed off.': 0.37037037037037035,\n",
       " 'The calculus will lead to gum disease which in turn can lead to dental abscess and loose teeth.': 2.148148148148148,\n",
       " 'We recommend pet owners to speak to their veterinarian about the proper brushing technique as well as use a veterinarian recommended toothpaste.': 2.2962962962962963,\n",
       " 'There are many diets with claims of preventing calculus formation on the market today.': 1.0370370370370368,\n",
       " 'I recommend dental diets to pet owners who are unable to brush their pet’s teeth and if their pet does not have a pre-existing condition.': 5.000000000000001,\n",
       " 'I strongly recommend using only diets recommended by your veterinarian since not all dental diets are created equal.': 2.1851851851851856,\n",
       " 'In general, dental diets work in two ways; the mechanical action while a pet chews the kibble and the enzymes present in the food to help reduce bacteria and plaque formation.': 3.4074074074074074,\n",
       " 'As you can see, a pet that does not chew his kibble will not get the benefits of a dental diet.': 2.2592592592592586,\n",
       " 'As well, these diets work best as a pet’s sole diet and the effectiveness declines if the diet is fed as a treat.': 2.222222222222222,\n",
       " 'Another alternative to brushing and dental diets is adding a solution to your pet’s drinking water.': 2.9629629629629632,\n",
       " 'This alternative is recommended for owners who cannot brush their pet’s teeth and when a dental diet is not appropriate.': 3.148148148148148,\n",
       " 'Water additives contain ingredients to help reduce oral bacteria which in turn reduce plaque formation.': 1.1481481481481481,\n",
       " 'With all the options available today, I advise pet owners to speak to their veterinarian regarding the water additive for their pet.': 2.666666666666667,\n",
       " 'Many pets will need a dental in their lifetime.': 1.1481481481481481,\n",
       " 'Even if a pet owner is diligent at brushing their pet’s teeth, a cleaning under anesthesia may be necessary to remove tarter from along and beneath the gingiva.': 3.37037037037037,\n",
       " 'Removing tarter will prevent gingivitis (inflammation of the gums) which will in turn prevent gingival recession, tooth loss and dental pain.': 2.0,\n",
       " 'I recommend regular exams with your veterinarian to assess your pet’s teeth and whether a dental is the right option for your pet.': 3.9629629629629637,\n",
       " 'In some situations, we have found severe dental disease below the gingiva that was not evident to the owner or during a routine examination.': 1.7037037037037035,\n",
       " '• Say No to “No-anesthesia Dental “\\n\\nA proper dental requires anesthesia.': 1.6296296296296295,\n",
       " 'No-anesthesia dentals are performed by individuals that do not have a medical background and do not have the necessary training to perform a dental cleaning.': 1.5185185185185186,\n",
       " 'Ask yourself if you would allow your hair dresser to scale and polish your teeth while you got a haircut.': 0.5925925925925926,\n",
       " 'Would they have the expertise to make an assessment and give you recommendations about your oral health?': 0.4444444444444444,\n",
       " 'Not to mention the additional risk of chipping a tooth, removing enamel and causing damage to the gingiva when dentals are performed without anesthesia and with an untrained individual.': 1.074074074074074,\n",
       " 'The truth is no-anesthesia dentals improve the esthetics for the owner but can actually do more harm than good for the pet.': 1.4444444444444444,\n",
       " 'Removing calculus without polishing the surface of the tooth afterwards allows bacteria to “stick” to a rough surface.': 1.148148148148148,\n",
       " 'In a short period of time the calculus will return, gingivitis is not resolved and severe dental disease is the result.': 1.888888888888889,\n",
       " 'Only a dental under anesthesia can remove calculus under the gum line and treat gingivitis.': 1.7777777777777781,\n",
       " 'If you have questions concerning your pet’s dental health, we advise you speak to your veterinarian team.': 2.925925925925926,\n",
       " 'February and March are dental months at McLean Animal Hospital.': 1.037037037037037,\n",
       " 'We offer no charge dental assessments and will be available to answer any dental questions you have.': 2.2962962962962963,\n",
       " 'Please call McLean Animal Hospital at 416-752-5114 to book your free dental assessment.': 1.2222222222222223}"
      ]
     },
     "execution_count": 17,
     "metadata": {},
     "output_type": "execute_result"
    }
   ],
   "source": [
    "score_sentences"
   ]
  },
  {
   "cell_type": "code",
   "execution_count": 18,
   "id": "b2903c74",
   "metadata": {},
   "outputs": [],
   "source": [
    "def visualize(title, sentence_list, best_sentences):\n",
    "  from IPython.core.display import HTML\n",
    "  text = ''\n",
    "\n",
    "  display(HTML(f'<h1>Summary - {title}</h1>'))\n",
    "  for sentence in sentence_list:\n",
    "    if sentence in best_sentences:\n",
    "      text += ' ' + str(sentence).replace(sentence, f\"<mark>{sentence}</mark>\")\n",
    "    else:\n",
    "      text += ' ' + sentence\n",
    "  display(HTML(f\"\"\" {text} \"\"\"))"
   ]
  },
  {
   "cell_type": "code",
   "execution_count": 19,
   "id": "402e10eb",
   "metadata": {},
   "outputs": [
    {
     "data": {
      "text/html": [
       "<h1>Summary - 5 Things You Can Do To Improve Your Pet’s Dental Health</h1>"
      ],
      "text/plain": [
       "<IPython.core.display.HTML object>"
      ]
     },
     "metadata": {},
     "output_type": "display_data"
    },
    {
     "data": {
      "text/html": [
       "  <mark>So you’ve noticed an offensive odour from your pet’s mouth recently, maybe even a slight decline in appetite or she prefers soft food versus kibble.</mark> <mark>Unfortunately, many pet owners are unaware these signs may be indicators of dental disease and their pet is experiencing dental pain.</mark> <mark>In fact, many pets have evidence of dental disease long before they are considered “old”, because they have not been given proper dental care.</mark> <mark>To prevent unnecessary oral pain, improve the quality of life and health of a pet, it is imperative a dental care program is implemented.</mark> By following the tips below, you will be a step ahead in fighting dental disease. <mark>The number one way to prevent plaque and calculus/tarter formation is by brushing your pet’s teeth daily.</mark> <mark>Bacteria from a pet’s mouth results in plaque formation and overtime the minerals in saliva will cause the plaque to harden into calculus.</mark> Once calculus is present, it cannot be brushed off. The calculus will lead to gum disease which in turn can lead to dental abscess and loose teeth. <mark>We recommend pet owners to speak to their veterinarian about the proper brushing technique as well as use a veterinarian recommended toothpaste.</mark> There are many diets with claims of preventing calculus formation on the market today. <mark>I recommend dental diets to pet owners who are unable to brush their pet’s teeth and if their pet does not have a pre-existing condition.</mark> I strongly recommend using only diets recommended by your veterinarian since not all dental diets are created equal. <mark>In general, dental diets work in two ways; the mechanical action while a pet chews the kibble and the enzymes present in the food to help reduce bacteria and plaque formation.</mark> As you can see, a pet that does not chew his kibble will not get the benefits of a dental diet. As well, these diets work best as a pet’s sole diet and the effectiveness declines if the diet is fed as a treat. <mark>Another alternative to brushing and dental diets is adding a solution to your pet’s drinking water.</mark> <mark>This alternative is recommended for owners who cannot brush their pet’s teeth and when a dental diet is not appropriate.</mark> Water additives contain ingredients to help reduce oral bacteria which in turn reduce plaque formation. <mark>With all the options available today, I advise pet owners to speak to their veterinarian regarding the water additive for their pet.</mark> Many pets will need a dental in their lifetime. <mark>Even if a pet owner is diligent at brushing their pet’s teeth, a cleaning under anesthesia may be necessary to remove tarter from along and beneath the gingiva.</mark> Removing tarter will prevent gingivitis (inflammation of the gums) which will in turn prevent gingival recession, tooth loss and dental pain. <mark>I recommend regular exams with your veterinarian to assess your pet’s teeth and whether a dental is the right option for your pet.</mark> In some situations, we have found severe dental disease below the gingiva that was not evident to the owner or during a routine examination. • Say No to “No-anesthesia Dental “\n",
       "\n",
       "A proper dental requires anesthesia. No-anesthesia dentals are performed by individuals that do not have a medical background and do not have the necessary training to perform a dental cleaning. Ask yourself if you would allow your hair dresser to scale and polish your teeth while you got a haircut. Would they have the expertise to make an assessment and give you recommendations about your oral health? Not to mention the additional risk of chipping a tooth, removing enamel and causing damage to the gingiva when dentals are performed without anesthesia and with an untrained individual. The truth is no-anesthesia dentals improve the esthetics for the owner but can actually do more harm than good for the pet. Removing calculus without polishing the surface of the tooth afterwards allows bacteria to “stick” to a rough surface. In a short period of time the calculus will return, gingivitis is not resolved and severe dental disease is the result. Only a dental under anesthesia can remove calculus under the gum line and treat gingivitis. <mark>If you have questions concerning your pet’s dental health, we advise you speak to your veterinarian team.</mark> February and March are dental months at McLean Animal Hospital. We offer no charge dental assessments and will be available to answer any dental questions you have. Please call McLean Animal Hospital at 416-752-5114 to book your free dental assessment. "
      ],
      "text/plain": [
       "<IPython.core.display.HTML object>"
      ]
     },
     "metadata": {},
     "output_type": "display_data"
    }
   ],
   "source": [
    "visualize(article.title, sentence_list, best_sentences)"
   ]
  },
  {
   "cell_type": "code",
   "execution_count": 20,
   "id": "13c6f454",
   "metadata": {},
   "outputs": [],
   "source": [
    "article_list = ['https://www.mcleanvet.com/cottaging-with-your-pet/',\n",
    "                'https://www.mcleanvet.com/everything-need-know-heartworm-ontario/',\n",
    "                'https://www.vanislevet.com/foot-care-healthy-dog/']"
   ]
  },
  {
   "cell_type": "code",
   "execution_count": 21,
   "id": "6c5ab4d7",
   "metadata": {},
   "outputs": [
    {
     "data": {
      "text/html": [
       "<h1>Summary - Cottaging with Your Pet</h1>"
      ],
      "text/plain": [
       "<IPython.core.display.HTML object>"
      ]
     },
     "metadata": {},
     "output_type": "display_data"
    },
    {
     "data": {
      "text/html": [
       "  This time of year a lot of people will be travelling to a cottage, and many are bringing their pets with them; particularly dogs. This article will outline some reminders to ensure you have a safe and organized family vacation! <mark>Time flies by quickly when packing and getting ready for a trip, so don’t forget to call several days in advance to refill any of your pet’s medications so that you do not run out while you are away.</mark> <mark>Even if your pet is not on medication, it might be a good idea to call ahead and ask for appropriate dosages for over the counter drugs such as Benadryl in case your pet suffers from any allergic reactions to bug bites.</mark> <mark>If your pet is on special food, don’t forget to order ahead for that as well, and pack extra food in case you end up spending extra time away.</mark> Research where the nearest veterinary clinic will be to your location and print off a small map with their contact information and phone number. Sometimes cell signals are not as strong, and you can’t always rely on being able to ‘google’ the information during an emergency. Some dogs love jumping in the car to join the family for a fun road trip – others get carsick and do not enjoy travelling at all. If you have never taken your dog on a long car ride before, start practicing in the weeks leading up to your long journey. Increase the amount of time your dog is in the car to see how they will handle things. Talk to your veterinarian if your pet does get carsick as there are excellent drugs to prevent nausea. If your dog gets anxious on car rides, there are calming pheromone sprays and anti-anxiety drugs that can make the car ride smoother. Always plan for bathroom and water breaks for your pet, and a safe location to sit in during the ride itself. <mark>The safest means of travel is to purchase a harness with an attachment that buckles into your car’s seatbelt, so your pet is buckled in the back seat just like the other passengers.</mark> Travelling in a carrier (especially if your dog is used to its carrier) will also keep them safe in the event of an accident. Remember to NEVER drive with your pet in your lap. <mark>Not only is a pet in your lap a distraction while you are driving, if an accident were to occur the force of an airbag going off could severely injure or kill your pet, and injure yourself as well.</mark> Cottages bring busy families the peace of mind they are craving during our beautiful summer weather but do be aware of safety hazards that exist for your pet. If your dog is not a strong swimmer, consider buying them a dog lifejacket (available at most pet stores). Making sure your pet is on medication to prevent them from getting bitten by fleas and ticks will keep them comfortable (and stop them bringing them into your cottage!) <mark>Wildlife abounds in cottage country, and depending on your location (and size of your pet) be aware of snakes, hawks, coyotes, and bears that could harm your pet.</mark> Planning and being prepared ensures that you and your pet will be able to have a relaxing and happy vacation. "
      ],
      "text/plain": [
       "<IPython.core.display.HTML object>"
      ]
     },
     "metadata": {},
     "output_type": "display_data"
    },
    {
     "data": {
      "text/html": [
       "<h1>Summary - Everything You Need to Know About Heartworm in Ontario</h1>"
      ],
      "text/plain": [
       "<IPython.core.display.HTML object>"
      ]
     },
     "metadata": {},
     "output_type": "display_data"
    },
    {
     "data": {
      "text/html": [
       "  How can my dog even get heartworm? Heartworm disease is transmitted by mosquitoes that carry inside them an organism called Dirofilaria immitis (the larvae of heartworm). As the mosquito bites your dog, it can deposit the larvae into the skin. The heartworms mature and eventually migrate from the skin tissues into the bloodstream over a period of about 50-70 days, by then, they have developed into juvenile adults. Those juvenile adults then migrate to the blood vessels of the lungs, where they become fully sexually mature adults. It can take 6-9 months from the time of the first infection by a mosquito for the larvae to become adults, breed, and then release immature heartworms into the bloodstream. <mark>This infected dog can now be bitten by a mosquito who can pick up the baby heartworms and transmit them to another dog – continuing the cycle of spreading heartworm from dog to dog.</mark> What are the symptoms of a dog with heartworm? Since adult heartworms live in the blood vessels of the lungs and heart, some of the clinical signs can be coughing, exercise intolerance, lethargy, fainting, weight loss, not breathing well, etc. Without treatment to slowly kill the heartworms a pet will die from heartworm disease. How does the heartworm test work? <mark>Ideally, veterinarians would like to do a blood test for every dog in the springtime to see if there was any chance they could have contracted heartworm the season before.</mark> A small amount of blood is drawn, and the lab will then run a test to see if your dog is positive or not. <mark>A negative test is recommended before your dog starts on preventative medication, as a dog positive for heartworm requires a much more complicated medication protocol and needs to be closely monitored by a veterinarian.</mark> Where is heartworm and what is the risk factor for my dog? Although heartworm can be found in other provinces, the majority of Canadian cases are found in Ontario, specifically southern Ontario. Idexx is one of two veterinary labs in Ontario that test for heartworm, and from 2013-2017 they saw an average of 225 cases per year. Keep in mind this is only a representation of dogs that came into vet clinics for blood tests and from only one laboratory. <mark>These numbers also do not take into consideration wildlife that we know harbour the disease, so heartworm is much more prevalent than a few hundred cases per year.</mark> If the risk factor is low why should I use monthly preventatives? The number of positive cases is still a low ratio per dog (considering how many dogs live in Ontario) – which is a great thing! <mark>Every dog that takes preventative medication is not only one less dog that can get sick from heartworm, but they are also not spreading it around their neighbourhood by being a host for mosquitos.</mark> <mark>Preventing heartworm disease is much cheaper ($8-16 per month depending on the size of your dog) than having to treat it should your pet become infected.</mark> <mark>Treatment for a positive dog is quite expensive and involves many steps including antibiotics, monthly heartworm preventatives, and injections of an adulticide (that will kill the adult worms).</mark> Steroids and antihistamines may also be needed as these worms affect other body systems as they die. Contracting heartworm is very serious and a risk that your dog does not need to take! <mark>The bonus of heartworm preventative medications is that they also contain a deworming medication which will protect your dog from contracting other parasites during our warm weather months.</mark> Deworming adult dogs for common parasites such as roundworms and hookworms is often overlooked by owners, so giving a monthly “all in one” medication can protect your pet from all the common internal parasites they may come in contact with. If you have any questions about heartworm disease or medications, please call us today! "
      ],
      "text/plain": [
       "<IPython.core.display.HTML object>"
      ]
     },
     "metadata": {},
     "output_type": "display_data"
    },
    {
     "data": {
      "text/html": [
       "<h1>Summary - Foot Care for a Healthy Dog</h1>"
      ],
      "text/plain": [
       "<IPython.core.display.HTML object>"
      ]
     },
     "metadata": {},
     "output_type": "display_data"
    },
    {
     "data": {
      "text/html": [
       "  At this time of year, we hear from a lot of our clients about pets with sore feet. It’s a little-known reality that with the good weather, comes outdoor activity, dryer terrain, harder ground, beach romping, and the injuries that can go with those things. <mark>Broken toe-nails and cut pads and paws can become a real nightmare for both the pet and owner, so this month we thought we’d focus a little bit on how to care for your pet’s paws.</mark> <mark>Nail Care\n",
       "\n",
       " One of the first things your veterinarian will tell you when you get a new pup is “Handle Those Feet!” The more you make feet just another part of your dog’s body, the more he/she will become comfortable with having those feet cared for.</mark> It can be one of the most important things you can do for your pet! Did you know that a high number of dogs (I’d say, probably 50% or more) have real anxiety when it comes to having their feet touched? Dogs who are otherwise calm and friendly can become fearful and aggressive if they are touched on or around the paws. <mark>To help your dog avoid this kind of stress, spend some time brushing, and massaging the paws of your dog.</mark> <mark>If you start early, you may become comfortable trimming your dog’s nails also.</mark> You can purchase a pair of safe nail trimmers at your veterinarian or at a pet store. <mark>When your dog is a pup, trimming the tips of the toenails is all that is necessary, and it is great to familiarize your dog with the process.</mark> <mark>Your dog needs a nail trim when the nails start to show curvature, and should only be trimmed to the quick, never farther back, as this can be painful and will bleed.</mark> <mark>Be careful, and if you would be more comfortable having a professional trim your dog’s nails, you can book them in for this at your veterinarian, a groomer, and at some pet stores.</mark> <mark>Failing to trim your dog’s nails can lead to the nails growing into the pads themselves in some extreme cases and can be very painful for your dog.</mark> Paws and Pads\n",
       "\n",
       " Do you remember cutting your foot on a barnacle at the beach as a child? It hurts! Many of us have had a similar situation with our pets. <mark>Especially in the summer months, frequent trips to our local shores are such a welcome thing, and if you have a dog like mine, they probably live to chase sticks at the beach.</mark> Most dogs, however, don’t know when to slow down and will run long after sustaining an injury to one of their paws. <mark>If you find that your dog has cut his or her pad, here are some things to do:\n",
       "• Identify on which foot the injury has occurred and make sure you don’t allow the dog to lick!</mark> Licking and chewing introduce bacteria and does more damage to the area. Put a cone on your pet, or a sock on that foot, or both! • DON’T apply a restrictive bandage without the advice of a veterinary professional. Some bandages can cut off blood supply to the affected area, and can again, cause more damage. • Soak it! Soaking an injured paw in a solution of Epsom salts and warm, clean water will help heal the area. A good practice is to soak the foot up to three times a day, for up to 10 minutes a time, and dry with a clean towel after soaking. • See your vet! Every case is different; some paws need stitches, some need a bandage. If your dog has a sore paw, let the vet do the diagnostics! • Be prepared! Carry some first aid material with you so that if you find yourself in a situation, you can help stop bleeding, and keep the injury clean until you can get some help. • Consider boots! You can order a wide arrangement of helpful footwear for your pup if you find that sore paws are becoming an issue. Check out amazon or your local pet stores for some options! <mark>When heading out for some fun this summer, consider your dog’s feet.</mark> Take the trail less travelled and opt for the grass or soft sand instead of gravel or rocky shores. Your pup will thank you for it! If you have any questions, give us a call at 250-334-8400. "
      ],
      "text/plain": [
       "<IPython.core.display.HTML object>"
      ]
     },
     "metadata": {},
     "output_type": "display_data"
    }
   ],
   "source": [
    "for url in article_list:\n",
    "    g = Goose()\n",
    "    article = g.extract(url)\n",
    "    sentence_list, best_sentences, _, _ = summarize(article.cleaned_text, 100, percentage=0.3)\n",
    "    visualize(article.title, sentence_list, best_sentences)"
   ]
  },
  {
   "cell_type": "code",
   "execution_count": null,
   "id": "88d9048a",
   "metadata": {},
   "outputs": [],
   "source": []
  }
 ],
 "metadata": {
  "kernelspec": {
   "display_name": "Python 3 (ipykernel)",
   "language": "python",
   "name": "python3"
  },
  "language_info": {
   "codemirror_mode": {
    "name": "ipython",
    "version": 3
   },
   "file_extension": ".py",
   "mimetype": "text/x-python",
   "name": "python",
   "nbconvert_exporter": "python",
   "pygments_lexer": "ipython3",
   "version": "3.9.7"
  }
 },
 "nbformat": 4,
 "nbformat_minor": 5
}
